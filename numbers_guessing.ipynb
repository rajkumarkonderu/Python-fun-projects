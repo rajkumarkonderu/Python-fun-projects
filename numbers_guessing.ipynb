{
 "cells": [
  {
   "cell_type": "code",
   "execution_count": 1,
   "id": "14bff0fa",
   "metadata": {},
   "outputs": [],
   "source": [
    "import random"
   ]
  },
  {
   "cell_type": "code",
   "execution_count": 15,
   "id": "ab13b480",
   "metadata": {},
   "outputs": [
    {
     "name": "stdout",
     "output_type": "stream",
     "text": [
      "hi, What is your name? sanju\n",
      "okay! sanju  Guess the number between 1 and 100\n"
     ]
    }
   ],
   "source": [
    "number=random.randint(1,100)\n",
    "\n",
    "player_name=input(\"hi, What is your name? \")\n",
    "\n",
    "print(\"okay! \" + player_name + \"  Guess the number between 1 and 100\")\n"
   ]
  },
  {
   "cell_type": "code",
   "execution_count": 16,
   "id": "bcc129e1",
   "metadata": {},
   "outputs": [
    {
     "name": "stdout",
     "output_type": "stream",
     "text": [
      "9\n",
      "Your guess is too low\n",
      "6\n",
      "Your guess is too low\n",
      "3\n",
      "Your guess is too low\n",
      "7\n",
      "Your guess is too low\n",
      "5\n",
      "Your guess is too low\n",
      "6\n",
      "Your guess is too low\n",
      "You did not guess the number, The number was 67\n"
     ]
    }
   ],
   "source": [
    "number_of_guesses=0\n",
    "while number_of_guesses < 6:\n",
    "    guess = int(input())\n",
    "    number_of_guesses += 1\n",
    "    if guess < number:\n",
    "        print('Your guess is too low')\n",
    "    if guess > number:\n",
    "        print('Your guess is too high')\n",
    "    if guess == number:\n",
    "        break\n",
    "if guess == number:\n",
    "    print('You guessed the number in ' + str(number_of_guesses) + ' tries!')\n",
    "else:\n",
    "    print('You did not guess the number, The number was ' + str(number))"
   ]
  },
  {
   "cell_type": "code",
   "execution_count": null,
   "id": "4861566d",
   "metadata": {},
   "outputs": [],
   "source": []
  }
 ],
 "metadata": {
  "kernelspec": {
   "display_name": "Python 3 (ipykernel)",
   "language": "python",
   "name": "python3"
  },
  "language_info": {
   "codemirror_mode": {
    "name": "ipython",
    "version": 3
   },
   "file_extension": ".py",
   "mimetype": "text/x-python",
   "name": "python",
   "nbconvert_exporter": "python",
   "pygments_lexer": "ipython3",
   "version": "3.9.12"
  }
 },
 "nbformat": 4,
 "nbformat_minor": 5
}
